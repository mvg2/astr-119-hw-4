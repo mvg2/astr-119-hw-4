{
 "cells": [
  {
   "cell_type": "code",
   "execution_count": null,
   "metadata": {},
   "outputs": [],
   "source": [
    "%matplotlib inline\n",
    "import numpy as np\n",
    "import matplotlib.pyplot as plt          # runs matplotlib inline and imports the necessary modules"
   ]
  },
  {
   "cell_type": "code",
   "execution_count": null,
   "metadata": {},
   "outputs": [],
   "source": [
    "def func(x):                   # creates a function for our polynomial with input of x\n",
    "    a = 1.01                   # lists out the coefficients\n",
    "    b = -3.04\n",
    "    c = 2.07\n",
    "    return a*x**2 + b*x + c    # the output of the function"
   ]
  },
  {
   "cell_type": "code",
   "execution_count": null,
   "metadata": {},
   "outputs": [],
   "source": [
    "def check_initial_values(f, x_min, x_max, tol):       # creates a function to check the validity of chosen initial values\n",
    "        \n",
    "        y_min = f(x_min)\n",
    "        y_max = f(x_max)\n",
    "        \n",
    "        if(y_min*y_max>0.0):\n",
    "            print(\"No zero crossing found in the range\", x_min, x_max)\n",
    "            return 0\n",
    "        \n",
    "        if (np.fabs(y_min)<tol):\n",
    "            return 1\n",
    "        \n",
    "        if(np.fabs(y_max)<tol):\n",
    "            return 2\n",
    "        \n",
    "        return 3"
   ]
  },
  {
   "cell_type": "code",
   "execution_count": null,
   "metadata": {},
   "outputs": [],
   "source": [
    "def bisection_root_finding(f, x_min_start, x_max_start, tol):   # creates the main function to find the roots of the polynomial\n",
    "    \n",
    "    x_min = x_min_start\n",
    "    x_max = x_max_start\n",
    "    x_mid = 0.0\n",
    "    \n",
    "    y_min = f(x_min)\n",
    "    y_max = f(x_max)\n",
    "    y_mid = 0.0\n",
    "    \n",
    "    imax = 1000          # sets the maximum number of iterations\n",
    "    i = 0                # starts the counter for iterations at zero\n",
    "    \n",
    "    flag = check_initial_values(f, x_min, x_max, tol)  # verifies that chosen initial values are valid per the above function\n",
    "    if(flag == 0):\n",
    "        print(\"Error in bisection_root_finding().\")\n",
    "        raise ValueError('Initial values invalid', x_min, x_max)\n",
    "    elif(flag==1):\n",
    "        return x_min\n",
    "    elif(flag==2):\n",
    "        return x_max\n",
    "    \n",
    "    \n",
    "    flag = 1\n",
    "    \n",
    "    while(flag):\n",
    "        x_mid = 0.5*(x_min+x_max)\n",
    "        y_mid = f(x_mid)\n",
    "        \n",
    "        if(np.fabs(y_mid)<tol):\n",
    "            \n",
    "            flag = 0\n",
    "        else:\n",
    "            \n",
    "            if(f(x_min)*f(x_mid)>0):\n",
    "                x_min = x_mid\n",
    "            else:\n",
    "                x_max = x_mid\n",
    "                \n",
    "        \n",
    "        i+=1        # adds one to the iteration count each time the loop runs\n",
    "        \n",
    "        if(i>=imax):\n",
    "            print(\"Exceeded max number of iterations =\", i)\n",
    "            s = \"Min bracket f(%f) = %f\" % (x_min, f(x_min))\n",
    "            print(s)\n",
    "            s = \"Max bracket f(%f) = %f\" % (x_max, f(x_max))\n",
    "            print(s)\n",
    "            s = \"Mid bracket f(%f) = %f\" % (x_mid, f(x_mid))\n",
    "            print(s)\n",
    "            raise StopIteration('Stopping iterations after ', i)\n",
    "            \n",
    "    return x_mid, i, x_min_start, x_max_start   # returns the root, and sends the number of iterations and \n",
    "                                                # initial bracketing values to be called later\n",
    "    \n"
   ]
  },
  {
   "cell_type": "code",
   "execution_count": null,
   "metadata": {
    "scrolled": true
   },
   "outputs": [],
   "source": [
    "x_min = 0.8     # call out the min and max initial bracketing values\n",
    "x_max = 1.2\n",
    "\n",
    "tolerance = 1.0e-6    #set the tolerance to 6 decimal places\n",
    "\n",
    "search_a = bisection_root_finding(func, x_min, x_max, tolerance)   # a variable used to call return values from search function\n",
    "\n",
    "x_root_a = search_a[0]         # names the first root\n",
    "iterations_a = search_a[1]     # calls out number of iterations needed to find root\n",
    "y_root_a = func(x_root_a)      # names the first y position as a function of the root\n",
    "x_min_a = search_a[2]          # calls the first min and max bracketing values that\n",
    "x_max_a = search_a[3]          # were used by the root finding function\n",
    "\n",
    "s=\"First root found at y(%f) = %f after %i iterations\" % (x_root_a, y_root_a, iterations_a) \n"
   ]
  },
  {
   "cell_type": "code",
   "execution_count": null,
   "metadata": {},
   "outputs": [],
   "source": [
    "x_min = 1.8     # this part does the same as the section above, but finds the second root given a second set of initial values\n",
    "x_max = 2.4     # tolerance has already been set above, so no need to enter it here\n",
    "\n",
    "search_b = bisection_root_finding(func, x_min, x_max, tolerance)   # everything same as above, but for the second root\n",
    "\n",
    "x_root_b = search_b[0]\n",
    "iterations_b = search_b[1]\n",
    "y_root_b = func(x_root_b)\n",
    "x_min_b = search_b[2]\n",
    "x_max_b = search_b[3]\n",
    "\n",
    "t=\"Second root found at y(%f) = %f after %i iterations.\" % (x_root_b, y_root_b, iterations_b)\n"
   ]
  },
  {
   "cell_type": "code",
   "execution_count": null,
   "metadata": {},
   "outputs": [],
   "source": [
    "x = np.linspace(0, 3, 1000)   # populates an array of values from 0 to 3 with 1000 increments\n",
    "\n",
    "\n",
    "plt.plot(x, func(x), color=\"g\")   # plots the parabola of the initial quadratic function\n",
    "plt.axhline(y=0, color='black')   # plots a horizontal line along the x axis at y=0\n",
    "\n",
    "\n",
    "plt.plot(x_min_a, func(x_min_a), 'bo',\n",
    "        markeredgecolor = 'black', markeredgewidth = 0.5)   # plots the points of the first pair of initial bracketing values\n",
    "plt.plot(x_max_a, func(x_max_a), 'bo',\n",
    "        markeredgecolor = 'black', markeredgewidth = 0.5)   # same color for both bracket points to show that they're related\n",
    "plt.plot(x_root_a, func(x_root_a), 'o', color = 'orange',\n",
    "        markeredgecolor = 'black', markeredgewidth = 0.5)   # plots the first root\n",
    "\n",
    "\n",
    "plt.plot(x_min_b, func(x_min_b), 'o', color = 'purple',     # plots the points of the second pair of initial bracketing values\n",
    "        markeredgecolor = 'black', markeredgewidth = 0.5)   \n",
    "plt.plot(x_max_b, func(x_max_b), 'o', color = 'purple',     # same color for these bracket points to distinguish\n",
    "        markeredgecolor = 'black', markeredgewidth = 0.5)   # them from the first pair\n",
    "plt.plot(x_root_b, func(x_root_b), 'o', color = 'yellow',\n",
    "        markeredgecolor = 'black', markeredgewidth = 0.5)   # plots the second root\n",
    "\n",
    "plt.xlabel(\"x\", size = '16')\n",
    "plt.ylabel(\"f(x)\", size = '16')\n",
    "plt.xlim([0,3])             # sets the dimensions of the graph area\n",
    "plt.ylim([-0.5,2.1])\n",
    "\n",
    "print(s)   # prints out the results of the first and second root searches\n",
    "print(t)"
   ]
  },
  {
   "cell_type": "code",
   "execution_count": null,
   "metadata": {},
   "outputs": [],
   "source": []
  }
 ],
 "metadata": {
  "kernelspec": {
   "display_name": "Python 3",
   "language": "python",
   "name": "python3"
  },
  "language_info": {
   "codemirror_mode": {
    "name": "ipython",
    "version": 3
   },
   "file_extension": ".py",
   "mimetype": "text/x-python",
   "name": "python",
   "nbconvert_exporter": "python",
   "pygments_lexer": "ipython3",
   "version": "3.8.5"
  }
 },
 "nbformat": 4,
 "nbformat_minor": 4
}
